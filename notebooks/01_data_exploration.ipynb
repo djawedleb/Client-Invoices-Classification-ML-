{
  "cells": [
    {
      "cell_type": "markdown",
      "metadata": {},
      "source": [
        "# Invoice Data Exploration\n",
        "\n",
        "This notebook explores the invoice dataset to understand its structure, quality, and characteristics.\n"
      ]
    },
    {
      "cell_type": "code",
      "execution_count": 2,
      "metadata": {},
      "outputs": [
        {
          "name": "stdout",
          "output_type": "stream",
          "text": [
            "<class 'pandas.core.frame.DataFrame'>\n",
            "RangeIndex: 50000 entries, 0 to 49999\n",
            "Data columns (total 9 columns):\n",
            " #   Column           Non-Null Count  Dtype  \n",
            "---  ------           --------------  -----  \n",
            " 0   id_facture       50000 non-null  object \n",
            " 1   nom_du_client    50000 non-null  object \n",
            " 2   create_date      50000 non-null  object \n",
            " 3   due_in_date      50000 non-null  object \n",
            " 4   clear_date       50000 non-null  object \n",
            " 5   montant_totale   50000 non-null  float64\n",
            " 6   totale_payer     50000 non-null  float64\n",
            " 7   totale_reste     50000 non-null  float64\n",
            " 8   client_category  50000 non-null  object \n",
            "dtypes: float64(3), object(6)\n",
            "memory usage: 3.4+ MB\n"
          ]
        }
      ],
      "source": [
        "import pandas as pd\n",
        "df = pd.read_csv(\"../data/invoices.csv\")\n",
        "df.head()\n",
        "df.info()"
      ]
    },
    {
      "cell_type": "code",
      "execution_count": null,
      "metadata": {},
      "outputs": [],
      "source": []
    },
    {
      "cell_type": "code",
      "execution_count": 3,
      "metadata": {},
      "outputs": [
        {
          "data": {
            "text/html": [
              "<div>\n",
              "<style scoped>\n",
              "    .dataframe tbody tr th:only-of-type {\n",
              "        vertical-align: middle;\n",
              "    }\n",
              "\n",
              "    .dataframe tbody tr th {\n",
              "        vertical-align: top;\n",
              "    }\n",
              "\n",
              "    .dataframe thead th {\n",
              "        text-align: right;\n",
              "    }\n",
              "</style>\n",
              "<table border=\"1\" class=\"dataframe\">\n",
              "  <thead>\n",
              "    <tr style=\"text-align: right;\">\n",
              "      <th></th>\n",
              "      <th>montant_totale</th>\n",
              "      <th>totale_payer</th>\n",
              "      <th>totale_reste</th>\n",
              "    </tr>\n",
              "  </thead>\n",
              "  <tbody>\n",
              "    <tr>\n",
              "      <th>count</th>\n",
              "      <td>50000.000000</td>\n",
              "      <td>50000.000000</td>\n",
              "      <td>50000.000000</td>\n",
              "    </tr>\n",
              "    <tr>\n",
              "      <th>mean</th>\n",
              "      <td>7229.569103</td>\n",
              "      <td>4560.958229</td>\n",
              "      <td>2668.610875</td>\n",
              "    </tr>\n",
              "    <tr>\n",
              "      <th>std</th>\n",
              "      <td>5754.030350</td>\n",
              "      <td>4138.486682</td>\n",
              "      <td>2949.372356</td>\n",
              "    </tr>\n",
              "    <tr>\n",
              "      <th>min</th>\n",
              "      <td>50.000000</td>\n",
              "      <td>3.610000</td>\n",
              "      <td>0.000000</td>\n",
              "    </tr>\n",
              "    <tr>\n",
              "      <th>25%</th>\n",
              "      <td>2323.280000</td>\n",
              "      <td>1310.230000</td>\n",
              "      <td>581.252500</td>\n",
              "    </tr>\n",
              "    <tr>\n",
              "      <th>50%</th>\n",
              "      <td>5799.670000</td>\n",
              "      <td>3232.805000</td>\n",
              "      <td>1580.580000</td>\n",
              "    </tr>\n",
              "    <tr>\n",
              "      <th>75%</th>\n",
              "      <td>11115.882500</td>\n",
              "      <td>6837.500000</td>\n",
              "      <td>3832.365000</td>\n",
              "    </tr>\n",
              "    <tr>\n",
              "      <th>max</th>\n",
              "      <td>38079.660000</td>\n",
              "      <td>35609.400000</td>\n",
              "      <td>28991.120000</td>\n",
              "    </tr>\n",
              "  </tbody>\n",
              "</table>\n",
              "</div>"
            ],
            "text/plain": [
              "       montant_totale  totale_payer  totale_reste\n",
              "count    50000.000000  50000.000000  50000.000000\n",
              "mean      7229.569103   4560.958229   2668.610875\n",
              "std       5754.030350   4138.486682   2949.372356\n",
              "min         50.000000      3.610000      0.000000\n",
              "25%       2323.280000   1310.230000    581.252500\n",
              "50%       5799.670000   3232.805000   1580.580000\n",
              "75%      11115.882500   6837.500000   3832.365000\n",
              "max      38079.660000  35609.400000  28991.120000"
            ]
          },
          "execution_count": 3,
          "metadata": {},
          "output_type": "execute_result"
        }
      ],
      "source": [
        "df.describe()"
      ]
    }
  ],
  "metadata": {
    "kernelspec": {
      "display_name": "Python 3",
      "language": "python",
      "name": "python3"
    },
    "language_info": {
      "codemirror_mode": {
        "name": "ipython",
        "version": 3
      },
      "file_extension": ".py",
      "mimetype": "text/x-python",
      "name": "python",
      "nbconvert_exporter": "python",
      "pygments_lexer": "ipython3",
      "version": "3.10.12"
    }
  },
  "nbformat": 4,
  "nbformat_minor": 2
}
