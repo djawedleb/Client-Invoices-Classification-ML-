{
  "cells": [
    {
      "cell_type": "markdown",
      "metadata": {},
      "source": [
        "# Invoice Data Exploration\n",
        "\n",
        "This notebook explores the invoice dataset to understand its structure, quality, and characteristics.\n"
      ]
    },
    {
      "cell_type": "code",
      "execution_count": 16,
      "metadata": {},
      "outputs": [
        {
          "name": "stdout",
          "output_type": "stream",
          "text": [
            "<class 'pandas.core.frame.DataFrame'>\n",
            "RangeIndex: 869 entries, 0 to 868\n",
            "Data columns (total 13 columns):\n",
            " #   Column           Non-Null Count  Dtype  \n",
            "---  ------           --------------  -----  \n",
            " 0   id facture       869 non-null    int64  \n",
            " 1   nom du client    869 non-null    object \n",
            " 2   create date      869 non-null    object \n",
            " 3   due in date      869 non-null    object \n",
            " 4   clear date       869 non-null    object \n",
            " 5   montant totale   869 non-null    float64\n",
            " 6   totale payer     869 non-null    float64\n",
            " 7   totale reste     869 non-null    float64\n",
            " 8   days_late        869 non-null    int64  \n",
            " 9   is_paid_on_time  869 non-null    bool   \n",
            " 10  is_late_1_45     869 non-null    bool   \n",
            " 11  is_late_gt_45    869 non-null    bool   \n",
            " 12  label            869 non-null    object \n",
            "dtypes: bool(3), float64(3), int64(2), object(5)\n",
            "memory usage: 70.6+ KB\n"
          ]
        }
      ],
      "source": [
        "import pandas as pd\n",
        "df = pd.read_csv(\"../data/new_dataset_labeled.csv\")\n",
        "df.head()\n",
        "df.info()"
      ]
    },
    {
      "cell_type": "code",
      "execution_count": null,
      "metadata": {},
      "outputs": [],
      "source": []
    },
    {
      "cell_type": "code",
      "execution_count": 17,
      "metadata": {},
      "outputs": [
        {
          "data": {
            "text/html": [
              "<div>\n",
              "<style scoped>\n",
              "    .dataframe tbody tr th:only-of-type {\n",
              "        vertical-align: middle;\n",
              "    }\n",
              "\n",
              "    .dataframe tbody tr th {\n",
              "        vertical-align: top;\n",
              "    }\n",
              "\n",
              "    .dataframe thead th {\n",
              "        text-align: right;\n",
              "    }\n",
              "</style>\n",
              "<table border=\"1\" class=\"dataframe\">\n",
              "  <thead>\n",
              "    <tr style=\"text-align: right;\">\n",
              "      <th></th>\n",
              "      <th>id facture</th>\n",
              "      <th>montant totale</th>\n",
              "      <th>totale payer</th>\n",
              "      <th>totale reste</th>\n",
              "      <th>days_late</th>\n",
              "    </tr>\n",
              "  </thead>\n",
              "  <tbody>\n",
              "    <tr>\n",
              "      <th>count</th>\n",
              "      <td>869.000000</td>\n",
              "      <td>869.000000</td>\n",
              "      <td>869.000000</td>\n",
              "      <td>869.000000</td>\n",
              "      <td>869.000000</td>\n",
              "    </tr>\n",
              "    <tr>\n",
              "      <th>mean</th>\n",
              "      <td>435.000000</td>\n",
              "      <td>2505.634684</td>\n",
              "      <td>1861.131369</td>\n",
              "      <td>644.503314</td>\n",
              "      <td>4.764097</td>\n",
              "    </tr>\n",
              "    <tr>\n",
              "      <th>std</th>\n",
              "      <td>251.002988</td>\n",
              "      <td>1399.159134</td>\n",
              "      <td>1108.513784</td>\n",
              "      <td>550.990895</td>\n",
              "      <td>9.032751</td>\n",
              "    </tr>\n",
              "    <tr>\n",
              "      <th>min</th>\n",
              "      <td>1.000000</td>\n",
              "      <td>102.180000</td>\n",
              "      <td>73.880000</td>\n",
              "      <td>1.720000</td>\n",
              "      <td>-10.000000</td>\n",
              "    </tr>\n",
              "    <tr>\n",
              "      <th>25%</th>\n",
              "      <td>218.000000</td>\n",
              "      <td>1283.820000</td>\n",
              "      <td>921.450000</td>\n",
              "      <td>214.060000</td>\n",
              "      <td>-3.000000</td>\n",
              "    </tr>\n",
              "    <tr>\n",
              "      <th>50%</th>\n",
              "      <td>435.000000</td>\n",
              "      <td>2505.980000</td>\n",
              "      <td>1812.840000</td>\n",
              "      <td>476.420000</td>\n",
              "      <td>5.000000</td>\n",
              "    </tr>\n",
              "    <tr>\n",
              "      <th>75%</th>\n",
              "      <td>652.000000</td>\n",
              "      <td>3709.230000</td>\n",
              "      <td>2634.760000</td>\n",
              "      <td>965.680000</td>\n",
              "      <td>13.000000</td>\n",
              "    </tr>\n",
              "    <tr>\n",
              "      <th>max</th>\n",
              "      <td>869.000000</td>\n",
              "      <td>4996.910000</td>\n",
              "      <td>4755.220000</td>\n",
              "      <td>2358.880000</td>\n",
              "      <td>20.000000</td>\n",
              "    </tr>\n",
              "  </tbody>\n",
              "</table>\n",
              "</div>"
            ],
            "text/plain": [
              "       id facture  montant totale  totale payer  totale reste   days_late\n",
              "count  869.000000      869.000000    869.000000    869.000000  869.000000\n",
              "mean   435.000000     2505.634684   1861.131369    644.503314    4.764097\n",
              "std    251.002988     1399.159134   1108.513784    550.990895    9.032751\n",
              "min      1.000000      102.180000     73.880000      1.720000  -10.000000\n",
              "25%    218.000000     1283.820000    921.450000    214.060000   -3.000000\n",
              "50%    435.000000     2505.980000   1812.840000    476.420000    5.000000\n",
              "75%    652.000000     3709.230000   2634.760000    965.680000   13.000000\n",
              "max    869.000000     4996.910000   4755.220000   2358.880000   20.000000"
            ]
          },
          "execution_count": 17,
          "metadata": {},
          "output_type": "execute_result"
        }
      ],
      "source": [
        "df.describe()"
      ]
    }
  ],
  "metadata": {
    "kernelspec": {
      "display_name": "Python 3",
      "language": "python",
      "name": "python3"
    },
    "language_info": {
      "codemirror_mode": {
        "name": "ipython",
        "version": 3
      },
      "file_extension": ".py",
      "mimetype": "text/x-python",
      "name": "python",
      "nbconvert_exporter": "python",
      "pygments_lexer": "ipython3",
      "version": "3.10.12"
    }
  },
  "nbformat": 4,
  "nbformat_minor": 2
}
